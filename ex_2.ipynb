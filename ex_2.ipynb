{
 "cells": [
  {
   "cell_type": "code",
   "execution_count": 1,
   "metadata": {},
   "outputs": [],
   "source": [
    "from apyori import apriori"
   ]
  },
  {
   "cell_type": "code",
   "execution_count": 21,
   "metadata": {},
   "outputs": [],
   "source": [
    "transactions = [\n",
    "    ['B','C','E','J'],\n",
    "    ['B','C','J'],\n",
    "    ['B','M','Y'],\n",
    "    ['B','J','M'],\n",
    "    ['C','J','M']\n",
    "]\n",
    "results = list(apriori(transactions,min_support=0.5, min_confidence=0.3,min_length=2));"
   ]
  },
  {
   "cell_type": "code",
   "execution_count": 22,
   "metadata": {},
   "outputs": [
    {
     "name": "stdout",
     "output_type": "stream",
     "text": [
      "Rule:  B  ->  J\n",
      "Support:  0.6\n",
      "Confidence:  0.7499999999999999\n",
      "Lift:  0.9374999999999998\n",
      "=====================================\n",
      "Rule:  J  ->  B\n",
      "Support:  0.6\n",
      "Confidence:  0.7499999999999999\n",
      "Lift:  0.9374999999999998\n",
      "=====================================\n",
      "Rule:  C  ->  J\n",
      "Support:  0.6\n",
      "Confidence:  1.0\n",
      "Lift:  1.25\n",
      "=====================================\n",
      "Rule:  J  ->  C\n",
      "Support:  0.6\n",
      "Confidence:  0.7499999999999999\n",
      "Lift:  1.2499999999999998\n",
      "=====================================\n"
     ]
    }
   ],
   "source": [
    "for item in results:\n",
    "    items = [x for x in item[0]]\n",
    "    pairs = list(item[2]);\n",
    "    del pairs[0];\n",
    "    for p in pairs:\n",
    "        print(\"Rule: \", \", \".join(list(p[0])), \" -> \", \", \".join(list(p[1])));\n",
    "        print(\"Support: \",  str(item[1]))\n",
    "        print(\"Confidence: \", list(p)[2])\n",
    "        print(\"Lift: \", list(p)[3])\n",
    "        print(\"=====================================\")"
   ]
  },
  {
   "cell_type": "code",
   "execution_count": null,
   "metadata": {},
   "outputs": [],
   "source": []
  }
 ],
 "metadata": {
  "kernelspec": {
   "display_name": "Python 3",
   "language": "python",
   "name": "python3"
  },
  "language_info": {
   "codemirror_mode": {
    "name": "ipython",
    "version": 3
   },
   "file_extension": ".py",
   "mimetype": "text/x-python",
   "name": "python",
   "nbconvert_exporter": "python",
   "pygments_lexer": "ipython3",
   "version": "3.7.4"
  }
 },
 "nbformat": 4,
 "nbformat_minor": 2
}
